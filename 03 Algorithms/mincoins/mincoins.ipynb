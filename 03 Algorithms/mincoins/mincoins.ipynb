{
 "cells": [
  {
   "cell_type": "markdown",
   "metadata": {},
   "source": [
    "# Minimum number of coins\n",
    "\n",
    "A collection of available coin denominations is provided as `denomination`.\n",
    "\n",
    "Given a value `value`, determine the minimum number of coins needed from `denomination` such that their total is `value`.\n",
    "\n",
    "## Task: Find change for value\n",
    "\n",
    "Write a function `get_change(value, denomination)` that returns a `list` of coin denominations needed to make up `value`.\n",
    "\n",
    "## Example output\n",
    "\n",
    "    >>> denomination = (1.00, 0.50, 0.20, 0.10, 0.05, 0.01)\n",
    "    >>> get_change(0.90, denomination)\n",
    "    [0.50, 0.20, 0.20]"
   ]
  },
  {
   "cell_type": "code",
   "execution_count": null,
   "metadata": {},
   "outputs": [],
   "source": [
    "def get_change(value, denomination):\n",
    "    # Write your code here\n",
    "    \n",
    "\n",
    "\n",
    "denomination = (1.00, 0.50, 0.20, 0.10, 0.05, 0.01)\n",
    "get_change(0.90, denomination)"
   ]
  },
  {
   "cell_type": "markdown",
   "metadata": {},
   "source": [
    "## Tests\n",
    "\n",
    "Write tests to verify the correctness of the output."
   ]
  },
  {
   "cell_type": "code",
   "execution_count": null,
   "metadata": {},
   "outputs": [],
   "source": [
    "# Write test code here\n",
    "\n"
   ]
  },
  {
   "cell_type": "markdown",
   "metadata": {},
   "source": [
    "## Extensions\n",
    "\n",
    "- Assuming the number of coins of each denomination is not unlimited. Given a `list` of available coins, determine the minimum number of coins needed. Return a `list` of the coin denominations.\n",
    "  - E.g. `get_change(0.90, [1.00, 0.20, 0.20, 0.20, 0.20, 0.20, 0.10, 0.10])` should return\n",
    "    `[0.20, 0.20, 0.20, 0.20, 0.10]`"
   ]
  },
  {
   "cell_type": "code",
   "execution_count": null,
   "metadata": {},
   "outputs": [],
   "source": []
  }
 ],
 "metadata": {
  "kernelspec": {
   "display_name": "Python 3",
   "language": "python",
   "name": "python3"
  },
  "language_info": {
   "codemirror_mode": {
    "name": "ipython",
    "version": 3
   },
   "file_extension": ".py",
   "mimetype": "text/x-python",
   "name": "python",
   "nbconvert_exporter": "python",
   "pygments_lexer": "ipython3",
   "version": "3.8.1"
  }
 },
 "nbformat": 4,
 "nbformat_minor": 2
}
