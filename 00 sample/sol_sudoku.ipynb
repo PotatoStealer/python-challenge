{
 "cells": [
  {
   "cell_type": "markdown",
   "metadata": {
    "nbgrader": {
     "grade": false,
     "grade_id": "cell-02630fc3daa783fd",
     "locked": true,
     "schema_version": 3,
     "solution": false,
     "task": false
    }
   },
   "source": [
    "# Sudoku\n",
    "\n",
    "A “brute force” Sudoku solver tries all possible combinations by filling in blank spaces one by one. If it encounters a case that is obviously impossible, it backtracks by undoing the last step.\n",
    "\n",
    "Some useful functions have been provided for you:\n",
    "\n",
    "1. `generate()` to generate a puzzle.\n",
    "2. `get_unused()` to get a `list` of numbers that have not yet been used.\n",
    "3. `get_unfilled()` to get a `list` of coordinates that have not yet been filled.\n",
    "4. `is_correct()` to check if a fully filled puzzle is correct.\n",
    "\n",
    "Examine the autograding tests below and try out the functions to see what kind of output they provide."
   ]
  },
  {
   "cell_type": "code",
   "execution_count": null,
   "metadata": {},
   "outputs": [],
   "source": [
    "from sudoku import generate, get_unused, get_unfilled, is_complete, is_correct\n",
    "\n",
    "# Autograding tests to check the above helper functions\n",
    "# used = {1, 3, 7, 9}\n",
    "puzzle = generate()\n",
    "unused = get_unused(puzzle)\n",
    "assert set(unused) == {2, 4, 5, 6, 8}, f'{set(unused)} != {{2, 4, 5, 6, 8}}'\n",
    "unfilled = get_unfilled(puzzle)\n",
    "assert set(unfilled) == {(0, 0), (0, 2), (1, 1), (2, 0), (2, 2)}, \\\n",
    "    f'{set(unfilled)} != {{(0, 0), (0, 2), (1, 1), (2, 0), (2, 2)}}'"
   ]
  },
  {
   "cell_type": "markdown",
   "metadata": {
    "nbgrader": {
     "grade": false,
     "grade_id": "cell-fabcc90c19dd763c",
     "locked": true,
     "schema_version": 3,
     "solution": false,
     "task": false
    }
   },
   "source": [
    "## Task: Implement a recursive brute-force Sudoku solver\n",
    "\n",
    "A recursive function `solve()` for solving a 3×3 Sudoku puzzle carries out the following steps:\n",
    "\n",
    "1. If the puzzle is complete and correct, `return puzzle`.\n",
    "2. If the puzzle is complete but incorrect, `return None`.\n",
    "3. If the puzzle is still incomplete, fill in the first unused value in the first unfilled slot.\n",
    "4. Solve the puzzle again (recursive call).\n",
    "5. If the result is `None`, no solution is possible. Undo Step 1 and try with the next value.\n",
    "6. If the result is a puzzle, return it.\n",
    "7. If all values have been tried, the puzzle is unsolvable (`return None`).\n",
    "\n",
    "Implement the above algorithm in `solve()`. Steps 1 and 2 have been done for you below.\n",
    "\n",
    "**Hint 1:** You do not need to fill in the rest of the unfilled slots beyond the first one. The subsequent recursive calls will try other combinations for you if implemented correctly.\n",
    "\n",
    "**Hint 2:** Your function should only have two possible return values: `puzzle`, or `None`.  \n",
    "Think through your decision table: when should you return `puzzle` and when should you return `None`?"
   ]
  },
  {
   "cell_type": "code",
   "execution_count": null,
   "metadata": {
    "nbgrader": {
     "grade": false,
     "grade_id": "cell-d4d13a186818b903",
     "locked": false,
     "schema_version": 3,
     "solution": true,
     "task": false
    }
   },
   "outputs": [],
   "source": [
    "# The functions get_unused(), get_unfilled(), is_complete(), and is_correct()\n",
    "# are available for use\n",
    "from copy import deepcopy\n",
    "\n",
    "\n",
    "def solve(original_puzzle):\n",
    "    '''\n",
    "    Attempts to solve puzzle.\n",
    "    Fills the first unfilled slot with the first unused value.\n",
    "    If solution check passes, calls solve() recursively with the\n",
    "        new puzzle.\n",
    "    Else, tries first unfilled slot with the next value.\n",
    "    '''\n",
    "    puzzle = deepcopy(original_puzzle)\n",
    "\n",
    "    if is_complete(puzzle):\n",
    "        if is_correct(puzzle):\n",
    "            return puzzle\n",
    "        else:\n",
    "            return None\n",
    "    else:\n",
    "        unfilled = get_unfilled(puzzle)\n",
    "        unused = get_unused(puzzle)\n",
    "        first_unused = unused[0]\n",
    "        y, x = unfilled[0]\n",
    "\n",
    "        ### BEGIN SOLUTION ###\n",
    "        all_unused_tried = False\n",
    "        while not all_unused_tried:\n",
    "            test_value = unused.pop(0)\n",
    "            if len(unused) == 0 or unused[0] == first_unused:\n",
    "                all_unused_tried = True\n",
    "#             print(f'coord ({y}, {x}), trying {test_value}, remaining: {unused}')\n",
    "            puzzle[y][x] = test_value\n",
    "            result = solve(puzzle)\n",
    "            if result is None:\n",
    "                puzzle[y][x] = None\n",
    "                unused.append(test_value)\n",
    "            else:\n",
    "#                 display(puzzle)\n",
    "                return result\n",
    "        # If this point is reached, all possibilities are exhausted\n",
    "#         print(f'coord ({y}, {x}), all values tried. Go one level up')\n",
    "        return None\n",
    "        ### END SOLUTION ###"
   ]
  },
  {
   "cell_type": "code",
   "execution_count": null,
   "metadata": {
    "nbgrader": {
     "grade": true,
     "grade_id": "cell-6fc908e5c86f2c02",
     "locked": true,
     "points": 1,
     "schema_version": 3,
     "solution": false,
     "task": false
    }
   },
   "outputs": [],
   "source": [
    "# Test for correct output\n",
    "puzzle = generate()\n",
    "solution = solve(puzzle)\n",
    "mark = '✓'\n",
    "try:\n",
    "    assert is_correct(solution), 'solve() does not return a correct solution'\n",
    "except AssertionError as e:\n",
    "    print(solution)\n",
    "    mark = '✗'\n",
    "    print(e)\n",
    "\n",
    "result = f'[{mark}] Correct output  '\n",
    "print(result)"
   ]
  },
  {
   "cell_type": "markdown",
   "metadata": {},
   "source": [
    "## Extensions and Improvements\n",
    "\n",
    "1. Write a more efficient algorithm.\n",
    "2. Write a `while`-loop implementation of the 3×3 solver\n",
    "3. Write a 9×9 Sudoku solver."
   ]
  }
 ],
 "metadata": {
  "celltoolbar": "Create Assignment",
  "kernelspec": {
   "display_name": "Python 3",
   "language": "python",
   "name": "python3"
  },
  "language_info": {
   "codemirror_mode": {
    "name": "ipython",
    "version": 3
   },
   "file_extension": ".py",
   "mimetype": "text/x-python",
   "name": "python",
   "nbconvert_exporter": "python",
   "pygments_lexer": "ipython3",
   "version": "3.8.1"
  }
 },
 "nbformat": 4,
 "nbformat_minor": 2
}
