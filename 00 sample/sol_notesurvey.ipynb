{
 "cells": [
  {
   "cell_type": "markdown",
   "metadata": {},
   "source": [
    "## Building a histogram\n",
    "\n",
    "A histogram is a graphical display of data using bars of different heights. In this notebook, you will be building a data structure that makes it easier to visualise a histogram (but you will not be printing one).\n",
    "\n",
    "The file `'basicpythonnotessurvey.csv'` contains CSV data from a survey about which entries in a set of notes should be kept.\n",
    "\n",
    "**Task:** Extract data from the CSV file and process it. Write it to another file in an appropriate format, showing the total number of votes for each entry.\n",
    "\n",
    "**Example output**\n",
    "\n",
    "The data that is output to text file should look like:\n",
    "\n",
    "    functions\n",
    "    help(): 7\n",
    "    dir(): 7\n",
    "    [... more entries ...]\n",
    "\n",
    "    strings\n",
    "    .count(): 9\n",
    "    .find(): 9\n",
    "    [... more entries ...]\n",
    "\n",
    "    lists\n",
    "    L.append(object): 10\n",
    "    L.clear(): 7\n",
    "    [... more entries ...]\n",
    "    \n"
   ]
  },
  {
   "cell_type": "code",
   "execution_count": null,
   "metadata": {},
   "outputs": [],
   "source": [
    "# Reading file to data\n",
    "\n",
    "functions = {}\n",
    "strmtds = {}\n",
    "listmtds = {}\n",
    "with open('Consolidating-Basic-Python-Notes.csv', 'r') as f:\n",
    "    f.readline()\n",
    "    for row in f:\n",
    "        row = row.strip().split(',')\n",
    "        \n",
    "        # Get start-end indexes of cells with double-quotes\n",
    "        start, end = [], []\n",
    "        for index, each in enumerate(row):\n",
    "            if each.startswith('\"'):\n",
    "                start.append(index)\n",
    "            elif each.endswith('\"'):\n",
    "                end.append(index + 1)\n",
    "\n",
    "        # Join cells with double-quotes\n",
    "        for start, end in zip(reversed(start), reversed(end)):\n",
    "            new_cell = ''.join(row[start:end])\n",
    "            del row[start:end]\n",
    "            row.insert(start, new_cell.strip('\"'))\n",
    "\n",
    "        # Count entry votes\n",
    "        for col, datadict in zip(range(2, 5), (functions, strmtds, listmtds)):\n",
    "            keys = row[col].split('; ')\n",
    "            for key in keys:\n",
    "                datadict[key] = datadict.get(key, 0) + 1"
   ]
  },
  {
   "cell_type": "code",
   "execution_count": null,
   "metadata": {},
   "outputs": [],
   "source": [
    "# Writing data to file\n",
    "\n",
    "with open('histo.csv', 'w') as f:\n",
    "    for name,data in zip(('functions', 'strings', 'lists'), (functions, strmtds, listmtds)):\n",
    "        print(name, file=f)\n",
    "        for key, value in data.items():\n",
    "            print(f'{key}: {value}', file=f)\n",
    "        print('', file=f)"
   ]
  },
  {
   "cell_type": "markdown",
   "metadata": {},
   "source": [
    "## Further challenges\n",
    "\n",
    "- Output the data with the entries sorted by number of votes (descending order).\n",
    "- Produce a visual bar chart for each entry, with a symbol (e.g. `#`) representing each vote\n",
    "\n",
    "  Example:\n",
    "\n",
    "       functions\n",
    "       help():                 7  #######\n",
    "       dir():                  7  #######\n",
    "       divmod(value divisor): 10  ##########\n",
    "       [... more entries ...]"
   ]
  }
 ],
 "metadata": {
  "kernelspec": {
   "display_name": "Python 3",
   "language": "python",
   "name": "python3"
  },
  "language_info": {
   "codemirror_mode": {
    "name": "ipython",
    "version": 3
   },
   "file_extension": ".py",
   "mimetype": "text/x-python",
   "name": "python",
   "nbconvert_exporter": "python",
   "pygments_lexer": "ipython3",
   "version": "3.8.1"
  }
 },
 "nbformat": 4,
 "nbformat_minor": 2
}
